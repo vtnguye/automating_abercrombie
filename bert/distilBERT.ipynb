{
 "cells": [
  {
   "cell_type": "code",
   "execution_count": 5,
   "metadata": {},
   "outputs": [],
   "source": [
    "import torch\n",
    "from transformers import DistilBertTokenizer, DistilBertForSequenceClassification, AutoTokenizer, AutoModelForSequenceClassification\n",
    "import torch.nn.functional as F\n",
    "\n",
    "# Load pre-trained DistilBERT and RoBERTa tokenizers and models\n",
    "distilbert_tokenizer = DistilBertTokenizer.from_pretrained(\"distilbert/distilbert-base-uncased-finetuned-sst-2-english\")\n",
    "distilbert_model = DistilBertForSequenceClassification.from_pretrained(\"distilbert/distilbert-base-uncased-finetuned-sst-2-english\", num_labels=2)\n",
    "\n",
    "roberta_tokenizer = AutoTokenizer.from_pretrained(\"cardiffnlp/twitter-roberta-base-sentiment\")\n",
    "roberta_model = AutoModelForSequenceClassification.from_pretrained(\"cardiffnlp/twitter-roberta-base-sentiment\", num_labels=3)\n",
    "\n",
    "# Define sample texts for classification\n",
    "texts = [\n",
    "    \"This is an amazing product!\",\n",
    "    \"I am very disappointed with this service.\",\n",
    "    \"The movie was fantastic and full of surprises!\",\n",
    "    \"Worst experience I have ever had with a company.\",\n",
    "    \"The customer support was very helpful and solved my issue.\",\n",
    "    \"I would never recommend this to anyone.\"\n",
    "]\n",
    "\n",
    "# Function to classify text using a model\n",
    "def classify_texts(model, tokenizer, texts, model_name):\n",
    "    inputs = tokenizer(texts, padding=True, truncation=True, return_tensors=\"pt\")\n",
    "    input_ids = inputs[\"input_ids\"]\n",
    "    attention_mask = inputs[\"attention_mask\"]\n",
    "    \n",
    "    with torch.no_grad():\n",
    "        outputs = model(input_ids, attention_mask=attention_mask)\n",
    "    \n",
    "    logits = outputs.logits\n",
    "    probs = F.softmax(logits, dim=1)\n",
    "    predictions = torch.argmax(probs, dim=1)\n",
    "    \n",
    "    print(f\"Results for {model_name}:\")\n",
    "    for text, pred, prob in zip(texts, predictions, probs):\n",
    "        label = \"Positive\" if pred.item() == 1 else \"Negative\"\n",
    "        print(f\"Text: {text}\\nPredicted Sentiment: {label}\\nConfidence: {prob[pred.item()]:.4f}\\n\")\n",
    "    print(\"-\" * 50)\n"
   ]
  },
  {
   "cell_type": "code",
   "execution_count": null,
   "metadata": {},
   "outputs": [
    {
     "name": "stdout",
     "output_type": "stream",
     "text": [
      "Results for DistilBERT:\n",
      "Text: This is an amazing product!\n",
      "Predicted Sentiment: Positive\n",
      "Confidence: 0.9999\n",
      "\n",
      "Text: I am very disappointed with this service.\n",
      "Predicted Sentiment: Negative\n",
      "Confidence: 0.9997\n",
      "\n",
      "Text: The movie was fantastic and full of surprises!\n",
      "Predicted Sentiment: Positive\n",
      "Confidence: 0.9999\n",
      "\n",
      "Text: Worst experience I have ever had with a company.\n",
      "Predicted Sentiment: Negative\n",
      "Confidence: 0.9998\n",
      "\n",
      "Text: The customer support was very helpful and solved my issue.\n",
      "Predicted Sentiment: Positive\n",
      "Confidence: 0.9981\n",
      "\n",
      "Text: I would never recommend this to anyone.\n",
      "Predicted Sentiment: Positive\n",
      "Confidence: 0.9896\n",
      "\n",
      "--------------------------------------------------\n"
     ]
    }
   ],
   "source": [
    "classify_texts(distilbert_model, distilbert_tokenizer, texts, \"DistilBERT\")"
   ]
  },
  {
   "cell_type": "code",
   "execution_count": 7,
   "metadata": {},
   "outputs": [
    {
     "name": "stderr",
     "output_type": "stream",
     "text": [
      "Asking to truncate to max_length but no maximum length is provided and the model has no predefined maximum length. Default to no truncation.\n"
     ]
    },
    {
     "name": "stdout",
     "output_type": "stream",
     "text": [
      "Results for RoBERTa:\n",
      "Text: This is an amazing product!\n",
      "Predicted Sentiment: Negative\n",
      "Confidence: 0.9905\n",
      "\n",
      "Text: I am very disappointed with this service.\n",
      "Predicted Sentiment: Negative\n",
      "Confidence: 0.9805\n",
      "\n",
      "Text: The movie was fantastic and full of surprises!\n",
      "Predicted Sentiment: Negative\n",
      "Confidence: 0.9911\n",
      "\n",
      "Text: Worst experience I have ever had with a company.\n",
      "Predicted Sentiment: Negative\n",
      "Confidence: 0.9724\n",
      "\n",
      "Text: The customer support was very helpful and solved my issue.\n",
      "Predicted Sentiment: Negative\n",
      "Confidence: 0.9631\n",
      "\n",
      "Text: I would never recommend this to anyone.\n",
      "Predicted Sentiment: Negative\n",
      "Confidence: 0.9387\n",
      "\n",
      "--------------------------------------------------\n"
     ]
    }
   ],
   "source": [
    "classify_texts(roberta_model, roberta_tokenizer, texts, \"RoBERTa\")"
   ]
  }
 ],
 "metadata": {
  "kernelspec": {
   "display_name": "venv",
   "language": "python",
   "name": "python3"
  },
  "language_info": {
   "codemirror_mode": {
    "name": "ipython",
    "version": 3
   },
   "file_extension": ".py",
   "mimetype": "text/x-python",
   "name": "python",
   "nbconvert_exporter": "python",
   "pygments_lexer": "ipython3",
   "version": "3.12.6"
  }
 },
 "nbformat": 4,
 "nbformat_minor": 2
}
