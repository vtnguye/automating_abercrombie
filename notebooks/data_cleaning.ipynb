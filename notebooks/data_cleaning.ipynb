{
 "cells": [
  {
   "cell_type": "code",
   "execution_count": 15,
   "metadata": {},
   "outputs": [],
   "source": [
    "import pandas as pd\n"
   ]
  },
  {
   "cell_type": "code",
   "execution_count": 16,
   "metadata": {},
   "outputs": [
    {
     "name": "stdout",
     "output_type": "stream",
     "text": [
      "Cleaning complete. Saved filtered data to ../dataset/processed/statement_cleaned.csv.\n"
     ]
    }
   ],
   "source": [
    "\n",
    "# Load case_file.csv (assuming it has a column named 'serial_no')\n",
    "case_file = pd.read_csv(\"../dataset/preprocessed/case_file_cleaned.csv\", usecols=[\"serial_no\"])\n",
    "\n",
    "# Load statement.csv in chunks to handle large file efficiently\n",
    "statement_chunks = pd.read_csv(\"../dataset/preprocessed/statement.csv\", chunksize=1000000)\n",
    "\n",
    "# Convert serial_no column in case_file to a set for fast lookup\n",
    "valid_serials = set(case_file[\"serial_no\"])\n",
    "\n",
    "# Create a new CSV file to store the cleaned data\n",
    "output_file = \"../dataset/processed/statement_cleaned.csv\"\n",
    "\n",
    "# Process and filter in chunks\n",
    "with open(output_file, \"w\", newline=\"\", encoding=\"utf-8\") as f:\n",
    "    for chunk in statement_chunks:\n",
    "        filtered_chunk = chunk[chunk[\"serial_no\"].isin(valid_serials)]\n",
    "        filtered_chunk.to_csv(f, index=False, header=f.tell()==0)  # Write header only once\n",
    "\n",
    "print(f\"Cleaning complete. Saved filtered data to {output_file}.\")\n"
   ]
  },
  {
   "cell_type": "code",
   "execution_count": 17,
   "metadata": {},
   "outputs": [
    {
     "name": "stdout",
     "output_type": "stream",
     "text": [
      "Number of entries with Pseudo Mark: 112\n"
     ]
    }
   ],
   "source": [
    "statement_cleaned = pd.read_csv(output_file)\n",
    "pm_count = statement_cleaned[statement_cleaned['statement_type_cd'].str.startswith('PM')].shape[0]\n",
    "print(f\"Number of entries with Pseudo Mark: {pm_count}\")"
   ]
  },
  {
   "cell_type": "code",
   "execution_count": 18,
   "metadata": {},
   "outputs": [
    {
     "name": "stdout",
     "output_type": "stream",
     "text": [
      "     statement_type_cd                                     statement_text  \\\n",
      "18              PM0001                               WASHBURNS GOLD MEDAL   \n",
      "54              PM0001               SCOTTS EMULSION PPP OF PURE COD LIVE   \n",
      "67              PM0001                              WOODWARDS CRIPE WATER   \n",
      "68              PM0001                             THE DAINTY 1ST QUALITY   \n",
      "71              PM0001  NELSON MORRIS AND COMPANY BRAND EXTRA SUGAR CU...   \n",
      "...                ...                                                ...   \n",
      "1394            PM0001                                           JB SMITH   \n",
      "1401            PM0001                                         GH BARNETT   \n",
      "1403            PM0001                                                 KF   \n",
      "1419            PM0001                                                 KF   \n",
      "1422            PM0001                                            KISS-ME   \n",
      "\n",
      "      serial_no  \n",
      "18     70013253  \n",
      "54     70019225  \n",
      "67     70019979  \n",
      "68     70020157  \n",
      "71     70020175  \n",
      "...         ...  \n",
      "1394   71007902  \n",
      "1401   71007921  \n",
      "1403   71007927  \n",
      "1419   71008132  \n",
      "1422   71008144  \n",
      "\n",
      "[112 rows x 3 columns]\n"
     ]
    }
   ],
   "source": [
    "pm_entries = statement_cleaned[statement_cleaned['statement_type_cd'].str.startswith('PM')]\n",
    "print(pm_entries)"
   ]
  },
  {
   "cell_type": "code",
   "execution_count": 19,
   "metadata": {},
   "outputs": [],
   "source": [
    "# Load case_file_cleaned.csv (assuming it has columns named 'serial_no' and 'mark_id_char')\n",
    "case_file_cleaned = pd.read_csv(\"../dataset/preprocessed/case_file_cleaned.csv\", usecols=[\"serial_no\", \"mark_id_char\"])\n",
    "\n",
    "# Save the extracted data to mark_cleaned.csv\n",
    "case_file_cleaned.to_csv(\"../dataset/processed/mark_cleaned.csv\", index=False)"
   ]
  },
  {
   "cell_type": "code",
   "execution_count": null,
   "metadata": {},
   "outputs": [],
   "source": []
  }
 ],
 "metadata": {
  "kernelspec": {
   "display_name": "venv",
   "language": "python",
   "name": "python3"
  },
  "language_info": {
   "codemirror_mode": {
    "name": "ipython",
    "version": 3
   },
   "file_extension": ".py",
   "mimetype": "text/x-python",
   "name": "python",
   "nbconvert_exporter": "python",
   "pygments_lexer": "ipython3",
   "version": "3.12.6"
  }
 },
 "nbformat": 4,
 "nbformat_minor": 2
}
